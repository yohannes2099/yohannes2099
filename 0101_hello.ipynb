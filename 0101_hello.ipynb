{
  "nbformat": 4,
  "nbformat_minor": 0,
  "metadata": {
    "colab": {
      "name": "0101_hello.ipynb",
      "provenance": [],
      "collapsed_sections": [],
      "authorship_tag": "ABX9TyOJWRgpK5Mw1yeKKLBW49Tp",
      "include_colab_link": true
    },
    "kernelspec": {
      "name": "python3",
      "display_name": "Python 3"
    },
    "language_info": {
      "name": "python"
    }
  },
  "cells": [
    {
      "cell_type": "markdown",
      "metadata": {
        "id": "view-in-github",
        "colab_type": "text"
      },
      "source": [
        "<a href=\"https://colab.research.google.com/github/yohannes2099/yohannes2099/blob/main/0101_hello.ipynb\" target=\"_parent\"><img src=\"https://colab.research.google.com/assets/colab-badge.svg\" alt=\"Open In Colab\"/></a>"
      ]
    },
    {
      "cell_type": "code",
      "metadata": {
        "colab": {
          "base_uri": "https://localhost:8080/"
        },
        "id": "1Db5vpynUWZY",
        "outputId": "87b2003d-6a18-46a8-d0cf-c3610edec37d"
      },
      "source": [
        "print('hello,world! ')\n",
        "print('This is yohannes i am writting my first phyton program! ')\n",
        "print('writing a code is fun!')\n",
        "print('great i will keep writing!')\n",
        "\n"
      ],
      "execution_count": 9,
      "outputs": [
        {
          "output_type": "stream",
          "text": [
            "hello,world! \n",
            "This is yohannes i am writting my first phyton program! \n",
            "writing a code is fun!\n",
            "great i will keep writing!\n"
          ],
          "name": "stdout"
        }
      ]
    }
  ]
}